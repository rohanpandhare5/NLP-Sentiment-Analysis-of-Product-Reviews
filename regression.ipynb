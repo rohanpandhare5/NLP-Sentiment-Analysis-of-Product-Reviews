{
  "nbformat": 4,
  "nbformat_minor": 0,
  "metadata": {
    "colab": {
      "provenance": []
    },
    "kernelspec": {
      "name": "python3",
      "display_name": "Python 3"
    },
    "language_info": {
      "name": "python"
    }
  },
  "cells": [
    {
      "cell_type": "code",
      "execution_count": 38,
      "metadata": {
        "id": "u6GGSS1gQrhx"
      },
      "outputs": [],
      "source": [
        "%matplotlib inline\n",
        "from numpy import *\n",
        "import matplotlib.pyplot as plt\n",
        "from sklearn.linear_model import LinearRegression\n",
        "from sklearn.model_selection import train_test_split\n"
      ]
    },
    {
      "cell_type": "markdown",
      "source": [
        "genfromtxt extracts data, delimiter tells how data is seperated."
      ],
      "metadata": {
        "id": "x1QYovWjSfu7"
      }
    },
    {
      "cell_type": "code",
      "source": [
        "points = genfromtxt('data.csv', delimiter=',')\n",
        "points\n"
      ],
      "metadata": {
        "colab": {
          "base_uri": "https://localhost:8080/"
        },
        "collapsed": true,
        "id": "DDKYeWv5Rrij",
        "outputId": "44f12b74-9e56-42c2-9c9e-b6c5c14607af"
      },
      "execution_count": 39,
      "outputs": [
        {
          "output_type": "execute_result",
          "data": {
            "text/plain": [
              "array([[ 32.50234527,  31.70700585],\n",
              "       [ 53.42680403,  68.77759598],\n",
              "       [ 61.53035803,  62.5623823 ],\n",
              "       [ 47.47563963,  71.54663223],\n",
              "       [ 59.81320787,  87.23092513],\n",
              "       [ 55.14218841,  78.21151827],\n",
              "       [ 52.21179669,  79.64197305],\n",
              "       [ 39.29956669,  59.17148932],\n",
              "       [ 48.10504169,  75.3312423 ],\n",
              "       [ 52.55001444,  71.30087989],\n",
              "       [ 45.41973014,  55.16567715],\n",
              "       [ 54.35163488,  82.47884676],\n",
              "       [ 44.1640495 ,  62.00892325],\n",
              "       [ 58.16847072,  75.39287043],\n",
              "       [ 56.72720806,  81.43619216],\n",
              "       [ 48.95588857,  60.72360244],\n",
              "       [ 44.68719623,  82.89250373],\n",
              "       [ 60.29732685,  97.37989686],\n",
              "       [ 45.61864377,  48.84715332],\n",
              "       [ 38.81681754,  56.87721319],\n",
              "       [ 66.18981661,  83.87856466],\n",
              "       [ 65.41605175, 118.5912173 ],\n",
              "       [ 47.48120861,  57.25181946],\n",
              "       [ 41.57564262,  51.39174408],\n",
              "       [ 51.84518691,  75.38065167],\n",
              "       [ 59.37082201,  74.76556403],\n",
              "       [ 57.31000344,  95.45505292],\n",
              "       [ 63.61556125,  95.22936602],\n",
              "       [ 46.73761941,  79.05240617],\n",
              "       [ 50.55676015,  83.43207142],\n",
              "       [ 52.22399609,  63.35879032],\n",
              "       [ 35.56783005,  41.4128853 ],\n",
              "       [ 42.43647694,  76.61734128],\n",
              "       [ 58.16454011,  96.76956643],\n",
              "       [ 57.50444762,  74.08413012],\n",
              "       [ 45.44053073,  66.58814441],\n",
              "       [ 61.89622268,  77.76848242],\n",
              "       [ 33.09383174,  50.71958891],\n",
              "       [ 36.43600951,  62.12457082],\n",
              "       [ 37.67565486,  60.81024665],\n",
              "       [ 44.55560838,  52.68298337],\n",
              "       [ 43.31828263,  58.56982472],\n",
              "       [ 50.07314563,  82.90598149],\n",
              "       [ 43.87061265,  61.4247098 ],\n",
              "       [ 62.99748075, 115.2441528 ],\n",
              "       [ 32.66904376,  45.57058882],\n",
              "       [ 40.16689901,  54.0840548 ],\n",
              "       [ 53.57507753,  87.99445276],\n",
              "       [ 33.86421497,  52.72549438],\n",
              "       [ 64.70713867,  93.57611869],\n",
              "       [ 38.11982403,  80.16627545],\n",
              "       [ 44.50253806,  65.10171157],\n",
              "       [ 40.59953838,  65.56230126],\n",
              "       [ 41.72067636,  65.28088692],\n",
              "       [ 51.08863468,  73.43464155],\n",
              "       [ 55.0780959 ,  71.13972786],\n",
              "       [ 41.37772653,  79.10282968],\n",
              "       [ 62.49469743,  86.52053844],\n",
              "       [ 49.20388754,  84.74269781],\n",
              "       [ 41.10268519,  59.35885025],\n",
              "       [ 41.18201611,  61.68403752],\n",
              "       [ 50.18638949,  69.84760416],\n",
              "       [ 52.37844622,  86.09829121],\n",
              "       [ 50.13548549,  59.10883927],\n",
              "       [ 33.64470601,  69.89968164],\n",
              "       [ 39.55790122,  44.86249071],\n",
              "       [ 56.13038882,  85.49806778],\n",
              "       [ 57.36205213,  95.53668685],\n",
              "       [ 60.26921439,  70.25193442],\n",
              "       [ 35.67809389,  52.72173496],\n",
              "       [ 31.588117  ,  50.39267014],\n",
              "       [ 53.66093226,  63.64239878],\n",
              "       [ 46.68222865,  72.24725107],\n",
              "       [ 43.10782022,  57.81251298],\n",
              "       [ 70.34607562, 104.25710159],\n",
              "       [ 44.49285588,  86.64202032],\n",
              "       [ 57.5045333 ,  91.486778  ],\n",
              "       [ 36.93007661,  55.23166089],\n",
              "       [ 55.80573336,  79.55043668],\n",
              "       [ 38.95476907,  44.84712424],\n",
              "       [ 56.9012147 ,  80.20752314],\n",
              "       [ 56.86890066,  83.14274979],\n",
              "       [ 34.3331247 ,  55.72348926],\n",
              "       [ 59.04974121,  77.63418251],\n",
              "       [ 57.78822399,  99.05141484],\n",
              "       [ 54.28232871,  79.12064627],\n",
              "       [ 51.0887199 ,  69.58889785],\n",
              "       [ 50.28283635,  69.51050331],\n",
              "       [ 44.21174175,  73.68756432],\n",
              "       [ 38.00548801,  61.36690454],\n",
              "       [ 32.94047994,  67.17065577],\n",
              "       [ 53.69163957,  85.66820315],\n",
              "       [ 68.76573427, 114.85387123],\n",
              "       [ 46.2309665 ,  90.12357207],\n",
              "       [ 68.31936082,  97.91982104],\n",
              "       [ 50.03017434,  81.53699078],\n",
              "       [ 49.23976534,  72.11183247],\n",
              "       [ 50.03957594,  85.23200734],\n",
              "       [ 48.14985889,  66.22495789],\n",
              "       [ 25.12848465,  53.45439421]])"
            ]
          },
          "metadata": {},
          "execution_count": 39
        }
      ]
    },
    {
      "cell_type": "markdown",
      "source": [
        "Here we extract x and y which are in 2d array above. Numpy**\n",
        "Reshape(-1,1) turns 1d array to 2d array of single numbers"
      ],
      "metadata": {
        "id": "VwK3a7hIS1Rp"
      }
    },
    {
      "cell_type": "code",
      "source": [
        "x = array(points[:,0]).reshape(-1,1)\n",
        "y = array(points[:,1]).reshape(-1,1)\n",
        "x_train, x_test, y_train, y_test = train_test_split(x,y, test_size=0.25)\n",
        "print(x)\n"
      ],
      "metadata": {
        "colab": {
          "base_uri": "https://localhost:8080/"
        },
        "collapsed": true,
        "id": "oFVqMxvKSZkg",
        "outputId": "0b8e5254-bfee-428b-a51c-c92cd6f86000"
      },
      "execution_count": 40,
      "outputs": [
        {
          "output_type": "stream",
          "name": "stdout",
          "text": [
            "[[32.50234527]\n",
            " [53.42680403]\n",
            " [61.53035803]\n",
            " [47.47563963]\n",
            " [59.81320787]\n",
            " [55.14218841]\n",
            " [52.21179669]\n",
            " [39.29956669]\n",
            " [48.10504169]\n",
            " [52.55001444]\n",
            " [45.41973014]\n",
            " [54.35163488]\n",
            " [44.1640495 ]\n",
            " [58.16847072]\n",
            " [56.72720806]\n",
            " [48.95588857]\n",
            " [44.68719623]\n",
            " [60.29732685]\n",
            " [45.61864377]\n",
            " [38.81681754]\n",
            " [66.18981661]\n",
            " [65.41605175]\n",
            " [47.48120861]\n",
            " [41.57564262]\n",
            " [51.84518691]\n",
            " [59.37082201]\n",
            " [57.31000344]\n",
            " [63.61556125]\n",
            " [46.73761941]\n",
            " [50.55676015]\n",
            " [52.22399609]\n",
            " [35.56783005]\n",
            " [42.43647694]\n",
            " [58.16454011]\n",
            " [57.50444762]\n",
            " [45.44053073]\n",
            " [61.89622268]\n",
            " [33.09383174]\n",
            " [36.43600951]\n",
            " [37.67565486]\n",
            " [44.55560838]\n",
            " [43.31828263]\n",
            " [50.07314563]\n",
            " [43.87061265]\n",
            " [62.99748075]\n",
            " [32.66904376]\n",
            " [40.16689901]\n",
            " [53.57507753]\n",
            " [33.86421497]\n",
            " [64.70713867]\n",
            " [38.11982403]\n",
            " [44.50253806]\n",
            " [40.59953838]\n",
            " [41.72067636]\n",
            " [51.08863468]\n",
            " [55.0780959 ]\n",
            " [41.37772653]\n",
            " [62.49469743]\n",
            " [49.20388754]\n",
            " [41.10268519]\n",
            " [41.18201611]\n",
            " [50.18638949]\n",
            " [52.37844622]\n",
            " [50.13548549]\n",
            " [33.64470601]\n",
            " [39.55790122]\n",
            " [56.13038882]\n",
            " [57.36205213]\n",
            " [60.26921439]\n",
            " [35.67809389]\n",
            " [31.588117  ]\n",
            " [53.66093226]\n",
            " [46.68222865]\n",
            " [43.10782022]\n",
            " [70.34607562]\n",
            " [44.49285588]\n",
            " [57.5045333 ]\n",
            " [36.93007661]\n",
            " [55.80573336]\n",
            " [38.95476907]\n",
            " [56.9012147 ]\n",
            " [56.86890066]\n",
            " [34.3331247 ]\n",
            " [59.04974121]\n",
            " [57.78822399]\n",
            " [54.28232871]\n",
            " [51.0887199 ]\n",
            " [50.28283635]\n",
            " [44.21174175]\n",
            " [38.00548801]\n",
            " [32.94047994]\n",
            " [53.69163957]\n",
            " [68.76573427]\n",
            " [46.2309665 ]\n",
            " [68.31936082]\n",
            " [50.03017434]\n",
            " [49.23976534]\n",
            " [50.03957594]\n",
            " [48.14985889]\n",
            " [25.12848465]]\n"
          ]
        }
      ]
    },
    {
      "cell_type": "code",
      "source": [
        "plt.scatter(x, y , color=\"blue\")\n",
        "plt.xlabel(\"Hours of study\", color=\"red\")\n",
        "plt.ylabel(\"Test scores\")\n",
        "plt.title(\"Dataset\")"
      ],
      "metadata": {
        "colab": {
          "base_uri": "https://localhost:8080/",
          "height": 489
        },
        "id": "ieOb4vMqTvF_",
        "outputId": "31aa3454-a9f1-4ce6-b3ff-b696ca0ad171"
      },
      "execution_count": 44,
      "outputs": [
        {
          "output_type": "execute_result",
          "data": {
            "text/plain": [
              "Text(0.5, 1.0, 'Dataset')"
            ]
          },
          "metadata": {},
          "execution_count": 44
        },
        {
          "output_type": "display_data",
          "data": {
            "text/plain": [
              "<Figure size 640x480 with 1 Axes>"
            ],
            "image/png": "[encoded data removed]"
          },
          "metadata": {}
        }
      ]
    },
    {
      "cell_type": "markdown",
      "source": [
        "Points which lie on the outer part of the data are called outliers. An outlier is a data point that stands out a lot from the other data points in a set. This fits the data but x and y should be 2d array. Next line predicts at 10 hours it also needs 2d input thats why 2 square bracket.\n"
      ],
      "metadata": {
        "id": "WDVuqSQjUzHr"
      }
    },
    {
      "cell_type": "code",
      "source": [
        "plt.scatter(x_train, y_train)\n",
        "plt.xlabel(\"Hours of study\", color=\"red\")\n",
        "plt.ylabel(\"Test scores\")\n",
        "plt.title(\"Dataset\")\n",
        "plt.show()"
      ],
      "metadata": {
        "colab": {
          "base_uri": "https://localhost:8080/",
          "height": 472
        },
        "id": "z_XCE5h7d6wg",
        "outputId": "4f772e9c-d40e-4009-ebf3-881cbe0ad529"
      },
      "execution_count": 52,
      "outputs": [
        {
          "output_type": "display_data",
          "data": {
            "text/plain": [
              "<Figure size 640x480 with 1 Axes>"
            ],
            "image/png": "[encoded data removed]"
          },
          "metadata": {}
        }
      ]
    },
    {
      "cell_type": "code",
      "source": [
        "#Linear regression\n",
        "regr = LinearRegression()\n",
        "regr.fit(x_train,y_train)"
      ],
      "metadata": {
        "colab": {
          "base_uri": "https://localhost:8080/",
          "height": 74
        },
        "id": "D9xDyNivVJIL",
        "outputId": "bd6930d0-8477-41e8-dd22-8bda079da3a9"
      },
      "execution_count": 42,
      "outputs": [
        {
          "output_type": "execute_result",
          "data": {
            "text/plain": [
              "LinearRegression()"
            ],
            "text/html": [
              "<style>#sk-container-id-2 {color: black;background-color: white;}#sk-container-id-2 pre{padding: 0;}#sk-container-id-2 div.sk-toggleable {background-color: white;}#sk-container-id-2 label.sk-toggleable__label {cursor: pointer;display: block;width: 100%;margin-bottom: 0;padding: 0.3em;box-sizing: border-box;text-align: center;}#sk-container-id-2 label.sk-toggleable__label-arrow:before {content: \"▸\";float: left;margin-right: 0.25em;color: #696969;}#sk-container-id-2 label.sk-toggleable__label-arrow:hover:before {color: black;}#sk-container-id-2 div.sk-estimator:hover label.sk-toggleable__label-arrow:before {color: black;}#sk-container-id-2 div.sk-toggleable__content {max-height: 0;max-width: 0;overflow: hidden;text-align: left;background-color: #f0f8ff;}#sk-container-id-2 div.sk-toggleable__content pre {margin: 0.2em;color: black;border-radius: 0.25em;background-color: #f0f8ff;}#sk-container-id-2 input.sk-toggleable__control:checked~div.sk-toggleable__content {max-height: 200px;max-width: 100%;overflow: auto;}#sk-container-id-2 input.sk-toggleable__control:checked~label.sk-toggleable__label-arrow:before {content: \"▾\";}#sk-container-id-2 div.sk-estimator input.sk-toggleable__control:checked~label.sk-toggleable__label {background-color: #d4ebff;}#sk-container-id-2 div.sk-label input.sk-toggleable__control:checked~label.sk-toggleable__label {background-color: #d4ebff;}#sk-container-id-2 input.sk-hidden--visually {border: 0;clip: rect(1px 1px 1px 1px);clip: rect(1px, 1px, 1px, 1px);height: 1px;margin: -1px;overflow: hidden;padding: 0;position: absolute;width: 1px;}#sk-container-id-2 div.sk-estimator {font-family: monospace;background-color: #f0f8ff;border: 1px dotted black;border-radius: 0.25em;box-sizing: border-box;margin-bottom: 0.5em;}#sk-container-id-2 div.sk-estimator:hover {background-color: #d4ebff;}#sk-container-id-2 div.sk-parallel-item::after {content: \"\";width: 100%;border-bottom: 1px solid gray;flex-grow: 1;}#sk-container-id-2 div.sk-label:hover label.sk-toggleable__label {background-color: #d4ebff;}#sk-container-id-2 div.sk-serial::before {content: \"\";position: absolute;border-left: 1px solid gray;box-sizing: border-box;top: 0;bottom: 0;left: 50%;z-index: 0;}#sk-container-id-2 div.sk-serial {display: flex;flex-direction: column;align-items: center;background-color: white;padding-right: 0.2em;padding-left: 0.2em;position: relative;}#sk-container-id-2 div.sk-item {position: relative;z-index: 1;}#sk-container-id-2 div.sk-parallel {display: flex;align-items: stretch;justify-content: center;background-color: white;position: relative;}#sk-container-id-2 div.sk-item::before, #sk-container-id-2 div.sk-parallel-item::before {content: \"\";position: absolute;border-left: 1px solid gray;box-sizing: border-box;top: 0;bottom: 0;left: 50%;z-index: -1;}#sk-container-id-2 div.sk-parallel-item {display: flex;flex-direction: column;z-index: 1;position: relative;background-color: white;}#sk-container-id-2 div.sk-parallel-item:first-child::after {align-self: flex-end;width: 50%;}#sk-container-id-2 div.sk-parallel-item:last-child::after {align-self: flex-start;width: 50%;}#sk-container-id-2 div.sk-parallel-item:only-child::after {width: 0;}#sk-container-id-2 div.sk-dashed-wrapped {border: 1px dashed gray;margin: 0 0.4em 0.5em 0.4em;box-sizing: border-box;padding-bottom: 0.4em;background-color: white;}#sk-container-id-2 div.sk-label label {font-family: monospace;font-weight: bold;display: inline-block;line-height: 1.2em;}#sk-container-id-2 div.sk-label-container {text-align: center;}#sk-container-id-2 div.sk-container {/* jupyter's `normalize.less` sets `[hidden] { display: none; }` but bootstrap.min.css set `[hidden] { display: none !important; }` so we also need the `!important` here to be able to override the default hidden behavior on the sphinx rendered scikit-learn.org. See: https://github.com/scikit-learn/scikit-learn/issues/21755 */display: inline-block !important;position: relative;}#sk-container-id-2 div.sk-text-repr-fallback {display: none;}</style><div id=\"sk-container-id-2\" class=\"sk-top-container\"><div class=\"sk-text-repr-fallback\"><pre>LinearRegression()</pre><b>In a Jupyter environment, please rerun this cell to show the HTML representation or trust the notebook. <br />On GitHub, the HTML representation is unable to render, please try loading this page with nbviewer.org.</b></div><div class=\"sk-container\" hidden><div class=\"sk-item\"><div class=\"sk-estimator sk-toggleable\"><input class=\"sk-toggleable__control sk-hidden--visually\" id=\"sk-estimator-id-2\" type=\"checkbox\" checked><label for=\"sk-estimator-id-2\" class=\"sk-toggleable__label sk-toggleable__label-arrow\">LinearRegression</label><div class=\"sk-toggleable__content\"><pre>LinearRegression()</pre></div></div></div></div></div>"
            ]
          },
          "metadata": {},
          "execution_count": 42
        }
      ]
    },
    {
      "cell_type": "code",
      "source": [
        "regr.predict([[10]])"
      ],
      "metadata": {
        "colab": {
          "base_uri": "https://localhost:8080/"
        },
        "id": "oK2WKik-Wuk2",
        "outputId": "cae6cd8d-ce28-45bc-ccc3-91db774806ba"
      },
      "execution_count": 43,
      "outputs": [
        {
          "output_type": "execute_result",
          "data": {
            "text/plain": [
              "array([[20.00488915]])"
            ]
          },
          "metadata": {},
          "execution_count": 43
        }
      ]
    },
    {
      "cell_type": "code",
      "source": [
        "y_predict_test = regr.predict(x_test)\n",
        "y_predict_train = regr.predict(x_train)\n",
        "\n",
        "plt.plot(x_train,y_predict_train, color=\"Green\")\n",
        "plt.plot(x_test, y_predict_test)\n",
        "\n",
        "plt.scatter(x_test,y_test)\n"
      ],
      "metadata": {
        "colab": {
          "base_uri": "https://localhost:8080/",
          "height": 447
        },
        "id": "EimlMWjuXHqn",
        "outputId": "6cf2c96f-181c-4922-a1c1-4dea3058db61"
      },
      "execution_count": 53,
      "outputs": [
        {
          "output_type": "execute_result",
          "data": {
            "text/plain": [
              "<matplotlib.collections.PathCollection at 0x79ae7855f940>"
            ]
          },
          "metadata": {},
          "execution_count": 53
        },
        {
          "output_type": "display_data",
          "data": {
            "text/plain": [
              "<Figure size 640x480 with 1 Axes>"
            ],
            "image/png": "[encoded data removed]"
          },
          "metadata": {}
        }
      ]
    },
    {
      "cell_type": "code",
      "source": [
        "b0 = regr.predict([[0]])[0][0]\n",
        "b1 = b1 = float((regr.predict([[10]])[0][0] - regr.predict([[0]])[0][0]) / 10)\n",
        "b1"
      ],
      "metadata": {
        "colab": {
          "base_uri": "https://localhost:8080/"
        },
        "id": "i7AgfQ_eYGwC",
        "outputId": "cb522097-57de-4641-f648-b0b6c4165e16"
      },
      "execution_count": 36,
      "outputs": [
        {
          "output_type": "execute_result",
          "data": {
            "text/plain": [
              "1.3224310227553597"
            ]
          },
          "metadata": {},
          "execution_count": 36
        }
      ]
    },
    {
      "cell_type": "code",
      "source": [
        "coefficients = regr.coef_\n",
        "print(coefficients)"
      ],
      "metadata": {
        "colab": {
          "base_uri": "https://localhost:8080/"
        },
        "id": "DwNXyHlLeoMz",
        "outputId": "0897ea47-3570-44d8-d275-e0272f1d90ad"
      },
      "execution_count": 54,
      "outputs": [
        {
          "output_type": "stream",
          "name": "stdout",
          "text": [
            "[[1.35985242]]\n"
          ]
        }
      ]
    }
  ]
}